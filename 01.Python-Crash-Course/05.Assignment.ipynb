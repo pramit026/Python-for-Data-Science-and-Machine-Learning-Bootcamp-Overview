{
 "cells": [
  {
   "cell_type": "markdown",
   "id": "efb9e256",
   "metadata": {},
   "source": [
    "Exercises"
   ]
  },
  {
   "cell_type": "code",
   "execution_count": 1,
   "id": "6468f6ad",
   "metadata": {},
   "outputs": [
    {
     "data": {
      "text/plain": [
       "2401"
      ]
     },
     "execution_count": 1,
     "metadata": {},
     "output_type": "execute_result"
    }
   ],
   "source": [
    "#1\n",
    "7**4"
   ]
  },
  {
   "cell_type": "code",
   "execution_count": 2,
   "id": "c5cb86e2",
   "metadata": {},
   "outputs": [
    {
     "data": {
      "text/plain": [
       "['hi', 'there', 'sam!']"
      ]
     },
     "execution_count": 2,
     "metadata": {},
     "output_type": "execute_result"
    }
   ],
   "source": [
    "#2\n",
    "s = \"hi there sam!\"\n",
    "s.split()"
   ]
  },
  {
   "cell_type": "code",
   "execution_count": 5,
   "id": "35f3b5af",
   "metadata": {},
   "outputs": [
    {
     "name": "stdout",
     "output_type": "stream",
     "text": [
      "The diameter of Earth is 12742 kilometers\n"
     ]
    }
   ],
   "source": [
    "#3\n",
    "planet = \"Earth\"\n",
    "diameter = 12742\n",
    "\n",
    "print(\"The diameter of {0} is {1} kilometers\".format(planet,diameter))"
   ]
  },
  {
   "cell_type": "code",
   "execution_count": 40,
   "id": "630c32eb",
   "metadata": {},
   "outputs": [
    {
     "data": {
      "text/plain": [
       "'hello'"
      ]
     },
     "execution_count": 40,
     "metadata": {},
     "output_type": "execute_result"
    }
   ],
   "source": [
    "#4\n",
    "lst = [1,2,[3,4],[5,[100,200,['hello']],23,11],1,7]\n",
    "\n",
    "lst[3][1][2][0]"
   ]
  },
  {
   "cell_type": "code",
   "execution_count": 8,
   "id": "18e51bf9",
   "metadata": {},
   "outputs": [
    {
     "data": {
      "text/plain": [
       "'hello'"
      ]
     },
     "execution_count": 8,
     "metadata": {},
     "output_type": "execute_result"
    }
   ],
   "source": [
    "#5\n",
    "d = {'k1':[1,2,3,{'tricky':['oh','man','inception',{'target':[1,2,3,'hello']}]}]}\n",
    "d['k1'][3]['tricky'][3]['target'][3]"
   ]
  },
  {
   "cell_type": "code",
   "execution_count": 9,
   "id": "12f88366",
   "metadata": {},
   "outputs": [],
   "source": [
    "# 6\n",
    "# tuple is immutable"
   ]
  },
  {
   "cell_type": "code",
   "execution_count": 41,
   "id": "ca463f7c",
   "metadata": {},
   "outputs": [],
   "source": [
    "# 7\n",
    "def domainGet(str):\n",
    "    return str.split('@')[-1]"
   ]
  },
  {
   "cell_type": "code",
   "execution_count": 42,
   "id": "50c0fcf0",
   "metadata": {},
   "outputs": [
    {
     "data": {
      "text/plain": [
       "'domain.com'"
      ]
     },
     "execution_count": 42,
     "metadata": {},
     "output_type": "execute_result"
    }
   ],
   "source": [
    "domainGet('user@domain.com')"
   ]
  },
  {
   "cell_type": "code",
   "execution_count": 43,
   "id": "6973621f",
   "metadata": {},
   "outputs": [],
   "source": [
    "#8\n",
    "def findDog(str):\n",
    "    return 'dog' in str.lower().split()\n",
    "    "
   ]
  },
  {
   "cell_type": "code",
   "execution_count": 44,
   "id": "184fc49b",
   "metadata": {},
   "outputs": [
    {
     "data": {
      "text/plain": [
       "True"
      ]
     },
     "execution_count": 44,
     "metadata": {},
     "output_type": "execute_result"
    }
   ],
   "source": [
    "findDog('Is there a dog here?')"
   ]
  },
  {
   "cell_type": "code",
   "execution_count": 45,
   "id": "cd8242b0",
   "metadata": {},
   "outputs": [],
   "source": [
    "# 9\n",
    "def countDog(str):\n",
    "    count = 0\n",
    "    for word in str.lower().split():\n",
    "        if word == 'dog':\n",
    "            count += 1\n",
    "    return count\n"
   ]
  },
  {
   "cell_type": "code",
   "execution_count": 46,
   "id": "3ec376d1",
   "metadata": {},
   "outputs": [
    {
     "data": {
      "text/plain": [
       "2"
      ]
     },
     "execution_count": 46,
     "metadata": {},
     "output_type": "execute_result"
    }
   ],
   "source": [
    "countDog('This dog runs faster than the other dog dude!')\n"
   ]
  },
  {
   "cell_type": "code",
   "execution_count": 28,
   "id": "03e82ab1",
   "metadata": {},
   "outputs": [
    {
     "data": {
      "text/plain": [
       "['soup', 'salad']"
      ]
     },
     "execution_count": 28,
     "metadata": {},
     "output_type": "execute_result"
    }
   ],
   "source": [
    "# 10\n",
    "seq = ['soup','dog','salad','cat','great']\n",
    "list(filter(lambda item:item[0]=='s',seq))"
   ]
  },
  {
   "cell_type": "code",
   "execution_count": 29,
   "id": "d7a7eec7",
   "metadata": {},
   "outputs": [],
   "source": [
    "# 11\n",
    "def caught_speeding(speed,is_bday):\n",
    "    if is_bday:\n",
    "        if (speed <= 65):\n",
    "            print(\"No ticket\")\n",
    "        elif (speed >= 66 and speed <= 85):\n",
    "            print(\"Small ticket\")\n",
    "        else:\n",
    "            print(\"Big ticket\")\n",
    "    else:\n",
    "        if (speed <= 60):\n",
    "            print(\"No ticket\")\n",
    "        elif (speed >= 61 and speed <= 80):\n",
    "            print(\"Small ticket\")\n",
    "        else:\n",
    "            print(\"Big ticket\")"
   ]
  },
  {
   "cell_type": "code",
   "execution_count": 33,
   "id": "4131a2b8",
   "metadata": {},
   "outputs": [
    {
     "name": "stdout",
     "output_type": "stream",
     "text": [
      "Small ticket\n"
     ]
    }
   ],
   "source": [
    "caught_speeding(81,True)\n"
   ]
  },
  {
   "cell_type": "code",
   "execution_count": 34,
   "id": "67b58d52",
   "metadata": {},
   "outputs": [
    {
     "name": "stdout",
     "output_type": "stream",
     "text": [
      "Big ticket\n"
     ]
    }
   ],
   "source": [
    "caught_speeding(81,False)\n"
   ]
  },
  {
   "cell_type": "code",
   "execution_count": 49,
   "id": "90ebebe8",
   "metadata": {},
   "outputs": [],
   "source": [
    "# 11\n",
    "def caught_speedinG(speed,is_bday):\n",
    "    if is_bday:\n",
    "        speed = speed - 5\n",
    "    else:\n",
    "        speed = speed \n",
    "        \n",
    "    if (speed <= 60):\n",
    "            print(\"No ticket\")\n",
    "    elif (speed >= 61 and speed <= 80):\n",
    "            print(\"Small ticket\")\n",
    "    else:\n",
    "        print(\"Big ticket\")"
   ]
  },
  {
   "cell_type": "code",
   "execution_count": 50,
   "id": "251e679d",
   "metadata": {},
   "outputs": [
    {
     "name": "stdout",
     "output_type": "stream",
     "text": [
      "Small ticket\n"
     ]
    }
   ],
   "source": [
    "caught_speedinG(81,True)"
   ]
  },
  {
   "cell_type": "code",
   "execution_count": null,
   "id": "66974ea0",
   "metadata": {},
   "outputs": [],
   "source": []
  }
 ],
 "metadata": {
  "kernelspec": {
   "display_name": "Python 3",
   "language": "python",
   "name": "python3"
  },
  "language_info": {
   "codemirror_mode": {
    "name": "ipython",
    "version": 3
   },
   "file_extension": ".py",
   "mimetype": "text/x-python",
   "name": "python",
   "nbconvert_exporter": "python",
   "pygments_lexer": "ipython3",
   "version": "3.8.10"
  }
 },
 "nbformat": 4,
 "nbformat_minor": 5
}
